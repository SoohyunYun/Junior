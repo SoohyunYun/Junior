{
 "cells": [
  {
   "cell_type": "code",
   "execution_count": 1,
   "metadata": {},
   "outputs": [
    {
     "name": "stdout",
     "output_type": "stream",
     "text": [
      "<built-in function listdir>\n"
     ]
    }
   ],
   "source": [
    "import numpy as np\n",
    "import pandas as pd\n",
    "import os\n",
    "print(os.listdir)"
   ]
  },
  {
   "cell_type": "code",
   "execution_count": 2,
   "metadata": {},
   "outputs": [
    {
     "data": {
      "text/plain": [
       "0       2011\n",
       "1       2011\n",
       "2       2011\n",
       "3       2011\n",
       "4       2011\n",
       "5       2011\n",
       "6       2011\n",
       "7       2011\n",
       "8       2011\n",
       "9       2011\n",
       "10      2011\n",
       "11      2011\n",
       "12      2011\n",
       "13      2011\n",
       "14      2011\n",
       "15      2011\n",
       "16      2011\n",
       "17      2011\n",
       "18      2011\n",
       "19      2011\n",
       "20      2011\n",
       "21      2011\n",
       "22      2011\n",
       "23      2011\n",
       "24      2011\n",
       "25      2011\n",
       "26      2011\n",
       "27      2011\n",
       "28      2011\n",
       "29      2011\n",
       "        ... \n",
       "3727    2011\n",
       "3728    2011\n",
       "3729    2011\n",
       "3730    2011\n",
       "3731    2011\n",
       "3732    2011\n",
       "3733    2011\n",
       "3734    2011\n",
       "3735    2011\n",
       "3736    2011\n",
       "3737    2011\n",
       "3738    2011\n",
       "3739    2011\n",
       "3740    2011\n",
       "3741    2011\n",
       "3742    2011\n",
       "3743    2011\n",
       "3744    2011\n",
       "3745    2011\n",
       "3746    2011\n",
       "3747    2011\n",
       "3748    2011\n",
       "3749    2011\n",
       "3750    2011\n",
       "3751    2011\n",
       "3752    2011\n",
       "3753    2011\n",
       "3754    2011\n",
       "3755    2011\n",
       "3756    2011\n",
       "Name: Year, dtype: int64"
      ]
     },
     "execution_count": 2,
     "metadata": {},
     "output_type": "execute_result"
    }
   ],
   "source": [
    "dataset_path = \"train_math.csv\"\n",
    "dataset=pd.read_csv(dataset_path)\n",
    "dataset.pop('DBN')\n",
    "dataset.pop('Year')\n",
    "#####\n",
    "Dataset_path = \"test_math.csv\"\n",
    "Dataset=pd.read_csv(Dataset_path)\n",
    "Dataset.pop('DBN')\n",
    "Dataset.pop('Year')\n"
   ]
  },
  {
   "cell_type": "code",
   "execution_count": 3,
   "metadata": {},
   "outputs": [
    {
     "name": "stdout",
     "output_type": "stream",
     "text": [
      "(17849, 12)\n",
      "(17849,)\n",
      "(3757, 12)\n",
      "(3757,)\n"
     ]
    }
   ],
   "source": [
    "x_train=dataset.loc[:,dataset.columns !='Mean Scale Score']\n",
    "\n",
    "y_train=dataset.loc[:,'Mean Scale Score']\n",
    "y_train=y_train.astype(float)\n",
    "\n",
    "print x_train.shape\n",
    "print y_train.shape\n",
    "\n",
    "#####\n",
    "\n",
    "x_test=Dataset.loc[:,Dataset.columns !='Mean Scale Score']\n",
    "\n",
    "y_test=Dataset.loc[:,'Mean Scale Score']\n",
    "y_test=y_test.astype(float)\n",
    "\n",
    "print x_test.shape\n",
    "print y_test.shape\n"
   ]
  },
  {
   "cell_type": "code",
   "execution_count": 4,
   "metadata": {
    "scrolled": true
   },
   "outputs": [
    {
     "data": {
      "text/plain": [
       "<Figure size 640x480 with 1 Axes>"
      ]
     },
     "metadata": {},
     "output_type": "display_data"
    },
    {
     "data": {
      "text/plain": [
       "<Figure size 640x480 with 1 Axes>"
      ]
     },
     "metadata": {},
     "output_type": "display_data"
    },
    {
     "data": {
      "text/plain": [
       "<Figure size 640x480 with 1 Axes>"
      ]
     },
     "metadata": {},
     "output_type": "display_data"
    },
    {
     "data": {
      "text/plain": [
       "<Figure size 640x480 with 1 Axes>"
      ]
     },
     "metadata": {},
     "output_type": "display_data"
    },
    {
     "data": {
      "text/plain": [
       "<Figure size 640x480 with 1 Axes>"
      ]
     },
     "metadata": {},
     "output_type": "display_data"
    },
    {
     "data": {
      "text/plain": [
       "<Figure size 640x480 with 1 Axes>"
      ]
     },
     "metadata": {},
     "output_type": "display_data"
    },
    {
     "data": {
      "text/plain": [
       "<Figure size 640x480 with 1 Axes>"
      ]
     },
     "metadata": {},
     "output_type": "display_data"
    },
    {
     "data": {
      "text/plain": [
       "<Figure size 640x480 with 1 Axes>"
      ]
     },
     "metadata": {},
     "output_type": "display_data"
    },
    {
     "data": {
      "text/plain": [
       "<Figure size 640x480 with 1 Axes>"
      ]
     },
     "metadata": {},
     "output_type": "display_data"
    },
    {
     "data": {
      "text/plain": [
       "<Figure size 640x480 with 1 Axes>"
      ]
     },
     "metadata": {},
     "output_type": "display_data"
    },
    {
     "data": {
      "text/plain": [
       "<Figure size 640x480 with 1 Axes>"
      ]
     },
     "metadata": {},
     "output_type": "display_data"
    },
    {
     "data": {
      "text/plain": [
       "<Figure size 640x480 with 1 Axes>"
      ]
     },
     "metadata": {},
     "output_type": "display_data"
    }
   ],
   "source": [
    "#Check Distribution\n",
    "import matplotlib.pyplot as plt\n",
    "plt.scatter(x_train.loc[:,'Level 3+4 %'].values,y_train, alpha=0.2)\n",
    "plt.xlabel('Level 3+4 %')\n",
    "plt.ylabel('Mean Score')\n",
    "plt.title('Distribution : Level 3+4 %')\n",
    "plt.show()\n",
    "\n",
    "plt.scatter(x_train.loc[:,'Level 4 %'].values,y_train, alpha=0.2)\n",
    "plt.xlabel('Level 4 %')\n",
    "plt.ylabel('Mean Score')\n",
    "plt.title('Distribution : Level 4 %')\n",
    "plt.show()\n",
    "\n",
    "plt.scatter(x_train.loc[:,'Level 3 %'].values,y_train, alpha=0.2)\n",
    "plt.xlabel('Level 3 %')\n",
    "plt.ylabel('Mean Score')\n",
    "plt.title('Distribution : Level 3 %')\n",
    "plt.show()\n",
    "\n",
    "plt.scatter(x_train.loc[:,'Level 2 %'].values,y_train, alpha=0.2)\n",
    "plt.xlabel('Level 2 %')\n",
    "plt.ylabel('Mean Score')\n",
    "plt.title('Distribution : Level 2 %')\n",
    "plt.show()\n",
    "\n",
    "plt.scatter(x_train.loc[:,'Level 1 %'].values,y_train, alpha=0.2)\n",
    "plt.xlabel('Level 1 %')\n",
    "plt.ylabel('Mean Score')\n",
    "plt.title('Distribution : Level 1 %')\n",
    "plt.show()\n",
    "\n",
    "plt.scatter(x_train.loc[:,'Level 3+4 #'].values,y_train, alpha=0.2)\n",
    "plt.xlabel('Level 3+4 #')\n",
    "plt.ylabel('Mean Score')\n",
    "plt.title('Distribution : Level 3+4 #')\n",
    "plt.show()\n",
    "\n",
    "plt.scatter(x_train.loc[:,'Level 4 #'].values,y_train, alpha=0.2)\n",
    "plt.xlabel('Level 4 #')\n",
    "plt.ylabel('Mean Score')\n",
    "plt.title('Distribution : Level 4 #')\n",
    "plt.show()\n",
    "\n",
    "plt.scatter(x_train.loc[:,'Level 3 #'].values,y_train, alpha=0.2)\n",
    "plt.xlabel('Level 3 #')\n",
    "plt.ylabel('Mean Score')\n",
    "plt.title('Distribution : Level 3 #')\n",
    "plt.show()\n",
    "\n",
    "plt.scatter(x_train.loc[:,'Level 2 #'].values,y_train, alpha=0.2)\n",
    "plt.xlabel('Level 2 #')\n",
    "plt.ylabel('Mean Score')\n",
    "plt.title('Distribution : Level 2 #')\n",
    "plt.show()\n",
    "\n",
    "plt.scatter(x_train.loc[:,'Level 1 #'].values,y_train, alpha=0.2)\n",
    "plt.xlabel('Level 1 #')\n",
    "plt.ylabel('Mean Score')\n",
    "plt.title('Distribution : Level 1 #')\n",
    "plt.show()\n",
    "\n",
    "plt.scatter(x_train.loc[:,'Grade'].values,y_train, alpha=0.2)\n",
    "plt.xlabel('Grade')\n",
    "plt.ylabel('Mean Score')\n",
    "plt.title('Distribution : Grade')\n",
    "plt.show()\n",
    "\n",
    "plt.scatter(x_train.loc[:,'Number Tested'].values,y_train, alpha=0.2)\n",
    "plt.xlabel('Number Tested')\n",
    "plt.ylabel('Mean Score')\n",
    "plt.title('Distribution : Number Tested')\n",
    "plt.show()\n"
   ]
  },
  {
   "cell_type": "code",
   "execution_count": 5,
   "metadata": {},
   "outputs": [
    {
     "name": "stdout",
     "output_type": "stream",
     "text": [
      "       Grade  Number Tested  Level 1 #  Level 1 %  Level 2 #  Level 2 %  \\\n",
      "0          3             39          2        5.1         11       28.2   \n",
      "1          3             31          2        6.5          3        9.7   \n",
      "2          3             37          0        0.0          6       16.2   \n",
      "3          3             33          0        0.0          4       12.1   \n",
      "4          3             26          6       23.1         12       46.2   \n",
      "5          4             49         20       40.8         18       36.7   \n",
      "6          4             40          4       10.0         13       32.5   \n",
      "7          4             41          5       12.2         15       36.6   \n",
      "8          4             39          4       10.3         15       38.5   \n",
      "9          4             29          7       24.1         12       41.4   \n",
      "10         5             31         12       38.7          9       29.0   \n",
      "11         5             50         10       20.0         24       48.0   \n",
      "12         5             36          3        8.3         11       30.6   \n",
      "13         5             39          2        5.1         14       35.9   \n",
      "14         5             35          6       17.1         19       54.3   \n",
      "15         6             39         10       25.6         12       30.8   \n",
      "16         3             66          7       10.6         10       15.2   \n",
      "17         3             44          2        4.5          4        9.1   \n",
      "18         3             51          0        0.0         10       19.6   \n",
      "19         3             48          0        0.0          3        6.3   \n",
      "20         3             36          3        8.3         16       44.4   \n",
      "21         4             61          6        9.8         15       24.6   \n",
      "22         4             49          8       16.3          8       16.3   \n",
      "23         4             49          4        8.2          8       16.3   \n",
      "24         4             42          2        4.8          1        2.4   \n",
      "25         4             41          1        2.4         17       41.5   \n",
      "26         5             64         13       20.3         21       32.8   \n",
      "27         5             53          4        7.5         12       22.6   \n",
      "28         5             64          5        7.8         10       15.6   \n",
      "29         5             42          2        4.8          2        4.8   \n",
      "...      ...            ...        ...        ...        ...        ...   \n",
      "17819      3             12          4       33.3          5       41.7   \n",
      "17820      3             34         15       44.1         11       32.4   \n",
      "17821      3             35          8       22.9         12       34.3   \n",
      "17822      3             24          4       16.7          7       29.2   \n",
      "17823      3             24         14       58.3          7       29.2   \n",
      "17824      4             11          8       72.7          1        9.1   \n",
      "17825      4             37         29       78.4          4       10.8   \n",
      "17826      4             34         22       64.7          6       17.6   \n",
      "17827      4             49         14       28.6         23       46.9   \n",
      "17828      4             39         13       33.3         24       61.5   \n",
      "17829      5             25         21       84.0          4       16.0   \n",
      "17830      5             43         32       74.4          9       20.9   \n",
      "17831      5             46         30       65.2         11       23.9   \n",
      "17832      5             39         13       33.3         20       51.3   \n",
      "17833      5             62         32       51.6         26       41.9   \n",
      "17834      6             43         41       95.3          2        4.7   \n",
      "17835      6             43         38       88.4          4        9.3   \n",
      "17836      6             26         24       92.3          2        7.7   \n",
      "17837      6             34         24       70.6          9       26.5   \n",
      "17838      6             34         28       82.4          5       14.7   \n",
      "17839      7             22         21       95.5          1        4.5   \n",
      "17840      7             35         32       91.4          3        8.6   \n",
      "17841      7             34         21       61.8         13       38.2   \n",
      "17842      7             32         15       46.9         15       46.9   \n",
      "17843      7             45         38       84.4          7       15.6   \n",
      "17844      8             20         19       95.0          1        5.0   \n",
      "17845      8             27         24       88.9          3       11.1   \n",
      "17846      8             36         34       94.4          2        5.6   \n",
      "17847      8             31         18       58.1         13       41.9   \n",
      "17848      8             38         32       84.2          6       15.8   \n",
      "\n",
      "       Level 3 #  Level 3 %  Level 4 #  Level 4 %  Level 3+4 #  Level 3+4 %  \n",
      "0             20       51.3          6       15.4           26         66.7  \n",
      "1             22       71.0          4       12.9           26         83.9  \n",
      "2             29       78.4          2        5.4           31         83.8  \n",
      "3             28       84.8          1        3.0           29         87.9  \n",
      "4              6       23.1          2        7.7            8         30.8  \n",
      "5             10       20.4          1        2.0           11         22.4  \n",
      "6             18       45.0          5       12.5           23         57.5  \n",
      "7             18       43.9          3        7.3           21         51.2  \n",
      "8             18       46.2          2        5.1           20         51.3  \n",
      "9              9       31.0          1        3.4           10         34.5  \n",
      "10            10       32.3          0        0.0           10         32.3  \n",
      "11            15       30.0          1        2.0           16         32.0  \n",
      "12            19       52.8          3        8.3           22         61.1  \n",
      "13            16       41.0          7       17.9           23         59.0  \n",
      "14             9       25.7          1        2.9           10         28.6  \n",
      "15            17       43.6          0        0.0           17         43.6  \n",
      "16            34       51.5         15       22.7           49         74.2  \n",
      "17            30       68.2          8       18.2           38         86.4  \n",
      "18            34       66.7          7       13.7           41         80.4  \n",
      "19            36       75.0          9       18.8           45         93.8  \n",
      "20            14       38.9          3        8.3           17         47.2  \n",
      "21            31       50.8          9       14.8           40         65.6  \n",
      "22            23       46.9         10       20.4           33         67.3  \n",
      "23            31       63.3          6       12.2           37         75.5  \n",
      "24            20       47.6         19       45.2           39         92.9  \n",
      "25            17       41.5          6       14.6           23         56.1  \n",
      "26            26       40.6          4        6.3           30         46.9  \n",
      "27            25       47.2         12       22.6           37         69.8  \n",
      "28            36       56.3         13       20.3           49         76.6  \n",
      "29            20       47.6         18       42.9           38         90.5  \n",
      "...          ...        ...        ...        ...          ...          ...  \n",
      "17819          3       25.0          0        0.0            3         25.0  \n",
      "17820          7       20.6          1        2.9            8         23.5  \n",
      "17821         15       42.9          0        0.0           15         42.9  \n",
      "17822         12       50.0          1        4.2           13         54.2  \n",
      "17823          3       12.5          0        0.0            3         12.5  \n",
      "17824          1        9.1          1        9.1            2         18.2  \n",
      "17825          3        8.1          1        2.7            4         10.8  \n",
      "17826          6       17.6          0        0.0            6         17.6  \n",
      "17827          9       18.4          3        6.1           12         24.5  \n",
      "17828          2        5.1          0        0.0            2          5.1  \n",
      "17829          0        0.0          0        0.0            0          0.0  \n",
      "17830          2        4.7          0        0.0            2          4.7  \n",
      "17831          5       10.9          0        0.0            5         10.9  \n",
      "17832          6       15.4          0        0.0            6         15.4  \n",
      "17833          4        6.5          0        0.0            4          6.5  \n",
      "17834          0        0.0          0        0.0            0          0.0  \n",
      "17835          1        2.3          0        0.0            1          2.3  \n",
      "17836          0        0.0          0        0.0            0          0.0  \n",
      "17837          1        2.9          0        0.0            1          2.9  \n",
      "17838          1        2.9          0        0.0            1          2.9  \n",
      "17839          0        0.0          0        0.0            0          0.0  \n",
      "17840          0        0.0          0        0.0            0          0.0  \n",
      "17841          0        0.0          0        0.0            0          0.0  \n",
      "17842          2        6.3          0        0.0            2          6.3  \n",
      "17843          0        0.0          0        0.0            0          0.0  \n",
      "17844          0        0.0          0        0.0            0          0.0  \n",
      "17845          0        0.0          0        0.0            0          0.0  \n",
      "17846          0        0.0          0        0.0            0          0.0  \n",
      "17847          0        0.0          0        0.0            0          0.0  \n",
      "17848          0        0.0          0        0.0            0          0.0  \n",
      "\n",
      "[17849 rows x 12 columns]\n",
      "       Level 1 %  Level 2 %  Level 3 %  Level 4 %  Level 3+4 %\n",
      "0            5.1       28.2       51.3       15.4         66.7\n",
      "1            6.5        9.7       71.0       12.9         83.9\n",
      "2            0.0       16.2       78.4        5.4         83.8\n",
      "3            0.0       12.1       84.8        3.0         87.9\n",
      "4           23.1       46.2       23.1        7.7         30.8\n",
      "5           40.8       36.7       20.4        2.0         22.4\n",
      "6           10.0       32.5       45.0       12.5         57.5\n",
      "7           12.2       36.6       43.9        7.3         51.2\n",
      "8           10.3       38.5       46.2        5.1         51.3\n",
      "9           24.1       41.4       31.0        3.4         34.5\n",
      "10          38.7       29.0       32.3        0.0         32.3\n",
      "11          20.0       48.0       30.0        2.0         32.0\n",
      "12           8.3       30.6       52.8        8.3         61.1\n",
      "13           5.1       35.9       41.0       17.9         59.0\n",
      "14          17.1       54.3       25.7        2.9         28.6\n",
      "15          25.6       30.8       43.6        0.0         43.6\n",
      "16          10.6       15.2       51.5       22.7         74.2\n",
      "17           4.5        9.1       68.2       18.2         86.4\n",
      "18           0.0       19.6       66.7       13.7         80.4\n",
      "19           0.0        6.3       75.0       18.8         93.8\n",
      "20           8.3       44.4       38.9        8.3         47.2\n",
      "21           9.8       24.6       50.8       14.8         65.6\n",
      "22          16.3       16.3       46.9       20.4         67.3\n",
      "23           8.2       16.3       63.3       12.2         75.5\n",
      "24           4.8        2.4       47.6       45.2         92.9\n",
      "25           2.4       41.5       41.5       14.6         56.1\n",
      "26          20.3       32.8       40.6        6.3         46.9\n",
      "27           7.5       22.6       47.2       22.6         69.8\n",
      "28           7.8       15.6       56.3       20.3         76.6\n",
      "29           4.8        4.8       47.6       42.9         90.5\n",
      "...          ...        ...        ...        ...          ...\n",
      "17819       33.3       41.7       25.0        0.0         25.0\n",
      "17820       44.1       32.4       20.6        2.9         23.5\n",
      "17821       22.9       34.3       42.9        0.0         42.9\n",
      "17822       16.7       29.2       50.0        4.2         54.2\n",
      "17823       58.3       29.2       12.5        0.0         12.5\n",
      "17824       72.7        9.1        9.1        9.1         18.2\n",
      "17825       78.4       10.8        8.1        2.7         10.8\n",
      "17826       64.7       17.6       17.6        0.0         17.6\n",
      "17827       28.6       46.9       18.4        6.1         24.5\n",
      "17828       33.3       61.5        5.1        0.0          5.1\n",
      "17829       84.0       16.0        0.0        0.0          0.0\n",
      "17830       74.4       20.9        4.7        0.0          4.7\n",
      "17831       65.2       23.9       10.9        0.0         10.9\n",
      "17832       33.3       51.3       15.4        0.0         15.4\n",
      "17833       51.6       41.9        6.5        0.0          6.5\n",
      "17834       95.3        4.7        0.0        0.0          0.0\n",
      "17835       88.4        9.3        2.3        0.0          2.3\n",
      "17836       92.3        7.7        0.0        0.0          0.0\n",
      "17837       70.6       26.5        2.9        0.0          2.9\n",
      "17838       82.4       14.7        2.9        0.0          2.9\n",
      "17839       95.5        4.5        0.0        0.0          0.0\n",
      "17840       91.4        8.6        0.0        0.0          0.0\n",
      "17841       61.8       38.2        0.0        0.0          0.0\n",
      "17842       46.9       46.9        6.3        0.0          6.3\n",
      "17843       84.4       15.6        0.0        0.0          0.0\n",
      "17844       95.0        5.0        0.0        0.0          0.0\n",
      "17845       88.9       11.1        0.0        0.0          0.0\n",
      "17846       94.4        5.6        0.0        0.0          0.0\n",
      "17847       58.1       41.9        0.0        0.0          0.0\n",
      "17848       84.2       15.8        0.0        0.0          0.0\n",
      "\n",
      "[17849 rows x 5 columns]\n",
      "(3757, 5)\n"
     ]
    }
   ],
   "source": [
    "print x_train\n",
    "x_train=x_train.iloc[:,3:12:2]\n",
    "                   \n",
    "print x_train\n",
    "\n",
    "x_train=x_train.values\n",
    "y_train=y_train.values\n",
    "\n",
    "#####\n",
    "x_test=x_test.iloc[:,3:12:2]\n",
    "                 \n",
    "print x_test.shape\n",
    "\n",
    "x_test=x_test.values\n",
    "y_test=y_test.values\n"
   ]
  },
  {
   "cell_type": "code",
   "execution_count": 6,
   "metadata": {},
   "outputs": [],
   "source": [
    "#Normalization\n",
    "mean = x_train.mean(axis=0)\n",
    "x_train -= mean\n",
    "std = x_train.std(axis=0)\n",
    "x_train /= std\n",
    "\n",
    "#####\n",
    "\n",
    "x_test -= mean  #use the mean,std of the train data\n",
    "x_test /= std"
   ]
  },
  {
   "cell_type": "code",
   "execution_count": 7,
   "metadata": {},
   "outputs": [
    {
     "name": "stderr",
     "output_type": "stream",
     "text": [
      "Using TensorFlow backend.\n"
     ]
    }
   ],
   "source": [
    "import keras\n",
    "from keras.models import Sequential\n",
    "from keras.optimizers import Adam\n",
    "from keras.layers import Dense, Dropout, Flatten\n",
    "\n",
    "def build_model(): \n",
    "    model = Sequential()\n",
    "    model.add(Dense(64, activation='relu',input_dim=5))\n",
    "    model.add(Dropout(0.25))\n",
    "    model.add(Dense(32, activation='relu'))\n",
    "    model.add(Dropout(0.5))\n",
    "    model.add(Dense(50, activation='softmax'))\n",
    "    model.add(Dense(1))\n",
    "    optimizer=Adam(lr=0.8,beta_1=0.6, beta_2=0.5)\n",
    "    model.compile(optimizer=optimizer, loss='mse', metrics=['mae'])\n",
    "    return model\n",
    "\n",
    "#mse:mean squared error, mae=mean absolute error"
   ]
  },
  {
   "cell_type": "code",
   "execution_count": 8,
   "metadata": {},
   "outputs": [
    {
     "name": "stdout",
     "output_type": "stream",
     "text": [
      "('working on #', 0)\n",
      "4462/4462 [==============================] - 0s 39us/step\n",
      "('working on #', 1)\n",
      "4462/4462 [==============================] - 0s 41us/step\n",
      "('working on #', 2)\n",
      "4462/4462 [==============================] - 0s 41us/step\n",
      "('working on #', 3)\n",
      "4462/4462 [==============================] - 0s 41us/step\n"
     ]
    }
   ],
   "source": [
    "k = 4\n",
    "\n",
    "num_val_samples = len(x_train) // k\n",
    "num_epochs = 300\n",
    "val_mae_histories = []\n",
    "mae_histories=[]\n",
    "all_scores=[]\n",
    "for i in range(k):\n",
    "    print('working on #', i)\n",
    "    val_x = x_train[i * num_val_samples: (i + 1) * num_val_samples] \n",
    "    val_y = y_train[i * num_val_samples: (i + 1) * num_val_samples]\n",
    "    \n",
    "    partial_x_train = np.concatenate(  \\\n",
    "        [x_train[:i * num_val_samples],\n",
    "         x_train[(i + 1) * num_val_samples:]],\n",
    "        axis=0)\n",
    "    partial_y_train = np.concatenate(\n",
    "        [y_train[:i * num_val_samples],\n",
    "         y_train[(i + 1) * num_val_samples:]],\n",
    "        axis=0)\n",
    "\n",
    "    model = build_model()  \n",
    "    history = model.fit(partial_x_train, partial_y_train,\n",
    "                    validation_data=(val_x, val_y),\n",
    "                    epochs=num_epochs, batch_size=100, verbose=0)\n",
    "    val_mae_history = history.history['val_mean_absolute_error']\n",
    "    val_mae_histories.append(val_mae_history) \n",
    "    \n",
    "    mae_history=history.history['mean_absolute_error']\n",
    "    mae_histories.append(mae_history)\n",
    "    \n",
    "    val_mse, val_mae = model.evaluate(val_x, val_y)\n",
    "    all_scores.append(val_mae)"
   ]
  },
  {
   "cell_type": "code",
   "execution_count": 9,
   "metadata": {},
   "outputs": [
    {
     "name": "stdout",
     "output_type": "stream",
     "text": [
      "[18.620505887368825, 17.049275479472737, 20.14889338966551, 23.463343830185586]\n",
      "19.820504646673164\n"
     ]
    }
   ],
   "source": [
    "print all_scores\n",
    "print np.mean(all_scores)"
   ]
  },
  {
   "cell_type": "code",
   "execution_count": 22,
   "metadata": {},
   "outputs": [
    {
     "data": {
      "image/png": "[encoded data removed]",
      "text/plain": [
       "<Figure size 432x288 with 1 Axes>"
      ]
     },
     "metadata": {
      "needs_background": "light"
     },
     "output_type": "display_data"
    }
   ],
   "source": [
    "average_val_mae_history = [\n",
    "    np.mean([x[i] for x in val_mae_histories]) for i in range(num_epochs)]\n",
    "average_mae_history= [np.mean([x[i] for x in mae_histories]) for i in range(num_epochs)]\n",
    "\n",
    "def smooth_curve(points, factor=0.9):\n",
    "    smoothed_points = []\n",
    "    for point in points:\n",
    "        if smoothed_points:\n",
    "            previous = smoothed_points[-1]\n",
    "            smoothed_points.append(previous * factor + point * (1 - factor))\n",
    "        else:\n",
    "            smoothed_points.append(point)\n",
    "    return smoothed_points\n",
    "\n",
    "smooth_val_mae_history = smooth_curve(average_val_mae_history[:])\n",
    "smooth_mae_history=smooth_curve(average_mae_history[:])\n",
    "\n",
    "plt.plot(range(1, len(smooth_val_mae_history) + 1), smooth_val_mae_history )\n",
    "plt.plot(range(1, len(smooth_mae_history) + 1), smooth_mae_history )\n",
    "plt.xlabel('Epochs')\n",
    "plt.legend(['Validation MAE','MAE'])\n",
    "plt.ylim(16,24)\n",
    "plt.show()"
   ]
  },
  {
   "cell_type": "code",
   "execution_count": 15,
   "metadata": {
    "scrolled": false
   },
   "outputs": [
    {
     "name": "stdout",
     "output_type": "stream",
     "text": [
      "3757/3757 [==============================] - 0s 101us/step\n"
     ]
    }
   ],
   "source": [
    "model=build_model()\n",
    "model.fit(x_train, y_train, \n",
    "          epochs=150, batch_size=100, verbose=0)\n",
    "test_mse_score, test_mae_score = model.evaluate(x_test, y_test)"
   ]
  },
  {
   "cell_type": "code",
   "execution_count": 16,
   "metadata": {},
   "outputs": [
    {
     "name": "stdout",
     "output_type": "stream",
     "text": [
      "16.844502857970785\n"
     ]
    }
   ],
   "source": [
    "print test_mae_score"
   ]
  },
  {
   "cell_type": "code",
   "execution_count": 19,
   "metadata": {},
   "outputs": [
    {
     "data": {
      "text/plain": [
       "Text(0,0.5,'Count')"
      ]
     },
     "execution_count": 19,
     "metadata": {},
     "output_type": "execute_result"
    },
    {
     "data": {
      "image/png": "[encoded data removed]",
      "text/plain": [
       "<Figure size 432x288 with 1 Axes>"
      ]
     },
     "metadata": {
      "needs_background": "light"
     },
     "output_type": "display_data"
    }
   ],
   "source": [
    "predictions=model.predict(x_test).flatten()\n",
    "error = predictions - y_test\n",
    "plt.hist(error, bins = 25)\n",
    "plt.xlabel(\"Prediction Error [Score]\")\n",
    "plt.ylabel(\"Count\")\n"
   ]
  },
  {
   "cell_type": "code",
   "execution_count": 20,
   "metadata": {},
   "outputs": [
    {
     "name": "stdout",
     "output_type": "stream",
     "text": [
      "_________________________________________________________________\n",
      "Layer (type)                 Output Shape              Param #   \n",
      "=================================================================\n",
      "dense_21 (Dense)             (None, 64)                384       \n",
      "_________________________________________________________________\n",
      "dropout_11 (Dropout)         (None, 64)                0         \n",
      "_________________________________________________________________\n",
      "dense_22 (Dense)             (None, 32)                2080      \n",
      "_________________________________________________________________\n",
      "dropout_12 (Dropout)         (None, 32)                0         \n",
      "_________________________________________________________________\n",
      "dense_23 (Dense)             (None, 50)                1650      \n",
      "_________________________________________________________________\n",
      "dense_24 (Dense)             (None, 1)                 51        \n",
      "=================================================================\n",
      "Total params: 4,165\n",
      "Trainable params: 4,165\n",
      "Non-trainable params: 0\n",
      "_________________________________________________________________\n"
     ]
    }
   ],
   "source": [
    "model.summary()"
   ]
  },
  {
   "cell_type": "code",
   "execution_count": null,
   "metadata": {},
   "outputs": [],
   "source": []
  }
 ],
 "metadata": {
  "kernelspec": {
   "display_name": "Python 2",
   "language": "python",
   "name": "python2"
  },
  "language_info": {
   "codemirror_mode": {
    "name": "ipython",
    "version": 2
   },
   "file_extension": ".py",
   "mimetype": "text/x-python",
   "name": "python",
   "nbconvert_exporter": "python",
   "pygments_lexer": "ipython2",
   "version": "2.7.12"
  }
 },
 "nbformat": 4,
 "nbformat_minor": 2
}
